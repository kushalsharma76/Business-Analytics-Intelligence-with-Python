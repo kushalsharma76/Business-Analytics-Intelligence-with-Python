{
 "cells": [
  {
   "cell_type": "markdown",
   "metadata": {},
   "source": [
    "# Predictive Model\n",
    "## No of students admission VS No of cities visited"
   ]
  },
  {
   "cell_type": "code",
   "execution_count": 25,
   "metadata": {},
   "outputs": [
    {
     "name": "stdout",
     "output_type": "stream",
     "text": [
      "   no_studnets\n",
      "0           60\n",
      "1           78\n",
      "2          150\n",
      "3          300\n",
      "   cities_visited\n",
      "0               5\n",
      "1              18\n",
      "2              25\n",
      "3              50\n",
      "Enter the cities visited: 30\n",
      "[[178.00093197]]\n"
     ]
    },
    {
     "data": {
      "image/png": "[encoded data removed]",
      "text/plain": [
       "<Figure size 432x288 with 1 Axes>"
      ]
     },
     "metadata": {},
     "output_type": "display_data"
    }
   ],
   "source": [
    "import matplotlib.pyplot as plt\n",
    "import pandas as pd\n",
    "import numpy as np\n",
    "from sklearn import datasets, linear_model\n",
    "from sklearn.metrics import mean_squared_error, r2_score\n",
    "\n",
    "# Load the student admission dataset\n",
    "no_of_admission = {\"no_studnets\":[60,78,150,300],\n",
    "                   \"cities_visited\":[5,18,25,50],\n",
    "                   \"no_junior_college_visits\":[10,35,50,70],\n",
    "                  \"year\":[\"2016\",\"2017\",\"2018\",\"2019\"]}\n",
    "\n",
    "df_admission = pd.DataFrame(no_of_admission)\n",
    "# y or output\n",
    "df_no_students_tmp = df_admission[\"no_studnets\"]\n",
    "df_no_students = pd.DataFrame(df_no_students_tmp)\n",
    "# x or input\n",
    "input_cities_visited_tmp = df_admission[\"cities_visited\"]\n",
    "input_cities_visited = pd.DataFrame(input_cities_visited_tmp)\n",
    "\n",
    "# Use only one feature\n",
    "print(df_no_students)\n",
    "print(input_cities_visited)\n",
    "\n",
    "# Create linear regression object\n",
    "regr = linear_model.LinearRegression()\n",
    "\n",
    "# Train the model using the training sets\n",
    "# regr.fit(input_cities_visited.reshape(-1,1), df_no_students.reshape(-1,1))\n",
    "regr.fit(input_cities_visited, df_no_students)\n",
    "\n",
    "# Make predictions using the testing set\n",
    "new_cities_visited_tmp = input(\"Enter the cities visited: \")\n",
    "new_cities_visited_tmp_list = [new_cities_visited_tmp]\n",
    "new_cities_visited = pd.DataFrame(new_cities_visited_tmp_list)\n",
    "no_students_pred = regr.predict(new_cities_visited)\n",
    "print(no_students_pred)\n",
    "\n",
    "\n",
    "# Plot outputs\n",
    "plt.scatter(input_cities_visited, df_no_students,  color='black')\n",
    "plt.plot(input_cities_visited, df_no_students, color='blue', linewidth=3)\n",
    "\n",
    "plt.xticks(())\n",
    "plt.yticks(())\n",
    "\n",
    "plt.show()"
   ]
  }
 ],
 "metadata": {
  "kernelspec": {
   "display_name": "Python 3",
   "language": "python",
   "name": "python3"
  },
  "language_info": {
   "codemirror_mode": {
    "name": "ipython",
    "version": 3
   },
   "file_extension": ".py",
   "mimetype": "text/x-python",
   "name": "python",
   "nbconvert_exporter": "python",
   "pygments_lexer": "ipython3",
   "version": "3.7.3"
  }
 },
 "nbformat": 4,
 "nbformat_minor": 2
}
